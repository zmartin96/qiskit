{
 "cells": [
  {
   "cell_type": "code",
   "execution_count": 1,
   "id": "8f198fc5-0bd4-43c0-8520-f3d34c5bde3d",
   "metadata": {},
   "outputs": [],
   "source": [
    "import qiskit\n",
    "from qiskit import QuantumCircuit, transpile\n",
    "from qiskit_aer import AerSimulator\n",
    "from qiskit.visualization import plot_histogram"
   ]
  },
  {
   "cell_type": "code",
   "execution_count": 2,
   "id": "9ad1fada-a59f-4dfa-bca5-6f4ad0d404db",
   "metadata": {},
   "outputs": [
    {
     "data": {
      "text/plain": [
       "{'qiskit': '0.45.0', 'qiskit-aer': '0.13.0', 'qiskit-ignis': None, 'qiskit-ibmq-provider': None, 'qiskit-nature': None, 'qiskit-finance': None, 'qiskit-optimization': None, 'qiskit-machine-learning': None}"
      ]
     },
     "execution_count": 2,
     "metadata": {},
     "output_type": "execute_result"
    }
   ],
   "source": [
    "qiskit.__qiskit_version__ #pip install qiskit-machine-learning"
   ]
  },
  {
   "cell_type": "code",
   "execution_count": 3,
   "id": "5198fe27-46ae-49b4-8c09-7d9d18ac876a",
   "metadata": {},
   "outputs": [],
   "source": [
    "# Use Aer's AerSimulator\n",
    "simulator = AerSimulator()"
   ]
  },
  {
   "cell_type": "code",
   "execution_count": 4,
   "id": "36edafa8-b1ce-44b7-ba65-457123459d9d",
   "metadata": {},
   "outputs": [],
   "source": [
    "# Create a Quantum Circuit acting on the q register\n",
    "circuit1 = QuantumCircuit(2, 2)\n",
    "# Here, you are initializing with 2 qubits in the zero state; with 2 classical bits set to zero; and circuit1 is the quantum circuit.\n",
    "# QuantumCircuit(int, int)"
   ]
  },
  {
   "cell_type": "code",
   "execution_count": 5,
   "id": "fb7bb511-82c1-401a-98a3-14f769957db1",
   "metadata": {},
   "outputs": [
    {
     "data": {
      "text/plain": [
       "<qiskit.circuit.instructionset.InstructionSet at 0x1176d1e70>"
      ]
     },
     "execution_count": 5,
     "metadata": {},
     "output_type": "execute_result"
    }
   ],
   "source": [
    "# Add a H gate on qubit 0\n",
    "circuit1.h(0) # A Hadamard gate H on qubit 0, which puts it into a superposition state."
   ]
  },
  {
   "cell_type": "code",
   "execution_count": 6,
   "id": "289445d8-3523-4e3a-8ac9-a2ce8aa97d40",
   "metadata": {},
   "outputs": [
    {
     "data": {
      "text/plain": [
       "<qiskit.circuit.instructionset.InstructionSet at 0x1176d2200>"
      ]
     },
     "execution_count": 6,
     "metadata": {},
     "output_type": "execute_result"
    }
   ],
   "source": [
    "# Add a CX (CNOT) gate on control qubit 0 and target qubit 1\n",
    "circuit1.cx(0, 1) # A controlled-Not operation (CNOT) on control qubit 0 and target qubit 1, putting the qubits in an entangled state."
   ]
  },
  {
   "cell_type": "code",
   "execution_count": 7,
   "id": "945d8b89-f93f-49ab-929d-11324b3ed060",
   "metadata": {},
   "outputs": [],
   "source": [
    "#circuit1.cx(0,2)\n",
    "#circuit1.h(2)\n",
    "#circuit1.cx(2,1)"
   ]
  },
  {
   "cell_type": "code",
   "execution_count": 8,
   "id": "4fa41200-49a3-44d1-a9cc-73d82bafc71e",
   "metadata": {},
   "outputs": [
    {
     "data": {
      "text/plain": [
       "<qiskit.circuit.instructionset.InstructionSet at 0x1176d2860>"
      ]
     },
     "execution_count": 8,
     "metadata": {},
     "output_type": "execute_result"
    }
   ],
   "source": [
    "# Map the quantum measurement to the classical bits\n",
    "circuit1.measure([0, 1], [0, 1]) \n",
    "# if you pass the entire quantum and classical registers to measure, \n",
    "# the ith qubit’s measurement result will be stored in the ith classical bit."
   ]
  },
  {
   "cell_type": "code",
   "execution_count": 9,
   "id": "86c66bc9-f918-4bb0-b9ce-8586f77086e0",
   "metadata": {},
   "outputs": [],
   "source": [
    "# Compile the circuit for the support instruction set (basis_gates)\n",
    "# and topology (coupling_map) of the backend\n",
    "compiled_circuit = transpile(circuit1, simulator)"
   ]
  },
  {
   "cell_type": "code",
   "execution_count": 10,
   "id": "bbbefeb6-f190-4ba1-b05e-1c98f21f9f97",
   "metadata": {},
   "outputs": [],
   "source": [
    "# Execute the circuit on the aer simulator\n",
    "job = simulator.run(compiled_circuit, shots=1000)"
   ]
  },
  {
   "cell_type": "code",
   "execution_count": 11,
   "id": "79c9b2b8-b1e2-4674-937a-b44aaeff43cc",
   "metadata": {},
   "outputs": [],
   "source": [
    "# Grab results from the job\n",
    "result = job.result()"
   ]
  },
  {
   "cell_type": "code",
   "execution_count": 12,
   "id": "93665f22-2492-43a3-a27f-404eda3c7e29",
   "metadata": {},
   "outputs": [
    {
     "name": "stdout",
     "output_type": "stream",
     "text": [
      "\n",
      "Total count for 00 and 11 are: {'11': 526, '00': 474}\n"
     ]
    }
   ],
   "source": [
    "# Returns counts\n",
    "counts = result.get_counts(compiled_circuit)\n",
    "print(\"\\nTotal count for 00 and 11 are:\", counts)"
   ]
  },
  {
   "cell_type": "code",
   "execution_count": 13,
   "id": "e1cbbd59-d36d-4f81-a6d3-df7be483577f",
   "metadata": {},
   "outputs": [
    {
     "name": "stderr",
     "output_type": "stream",
     "text": [
      "/Library/Frameworks/Python.framework/Versions/3.10/lib/python3.10/site-packages/qiskit/visualization/circuit/matplotlib.py:266: FutureWarning: The default matplotlib drawer scheme will be changed to \"iqp\" in a following release. To silence this warning, specify the current default explicitly as style=\"clifford\", or the new default as style=\"iqp\".\n",
      "  self._style, def_font_ratio = load_style(self._style)\n"
     ]
    },
    {
     "data": {
      "image/png": "[encoded data removed]",
      "text/plain": [
       "<Figure size 454.517x284.278 with 1 Axes>"
      ]
     },
     "execution_count": 13,
     "metadata": {},
     "output_type": "execute_result"
    }
   ],
   "source": [
    "# Draw the circuit\n",
    "circuit1.draw(\"mpl\")\n",
    "# You can use qiskit.circuit.QuantumCircuit.draw() \n",
    "# to view the circuit that you have designed in the \n",
    "# various forms used in many textbooks and research articles."
   ]
  },
  {
   "cell_type": "code",
   "execution_count": 14,
   "id": "e33ea609-0ead-40ca-b514-828d04909f8e",
   "metadata": {},
   "outputs": [
    {
     "data": {
      "text/html": [
       "<pre style=\"word-wrap: normal;white-space: pre;background: #fff0;line-height: 1.1;font-family: &quot;Courier New&quot;,Courier,monospace\">     ┌───┐     ┌─┐   \n",
       "q_0: ┤ H ├──■──┤M├───\n",
       "     └───┘┌─┴─┐└╥┘┌─┐\n",
       "q_1: ─────┤ X ├─╫─┤M├\n",
       "          └───┘ ║ └╥┘\n",
       "c: 2/═══════════╩══╩═\n",
       "                0  1 </pre>"
      ],
      "text/plain": [
       "     ┌───┐     ┌─┐   \n",
       "q_0: ┤ H ├──■──┤M├───\n",
       "     └───┘┌─┴─┐└╥┘┌─┐\n",
       "q_1: ─────┤ X ├─╫─┤M├\n",
       "          └───┘ ║ └╥┘\n",
       "c: 2/═══════════╩══╩═\n",
       "                0  1 "
      ]
     },
     "execution_count": 14,
     "metadata": {},
     "output_type": "execute_result"
    }
   ],
   "source": [
    "#You can use any of the valid circuit drawer backends \n",
    "# as the value for this config, this includes \n",
    "# text, mpl, latex, and latex_source.\n",
    "circuit1.draw(\"text\")\n",
    "#circuit1.draw(\"mpl\")"
   ]
  },
  {
   "cell_type": "code",
   "execution_count": 15,
   "id": "75049978-94a7-4d51-ad01-b18679e92f10",
   "metadata": {},
   "outputs": [],
   "source": [
    "#circuit1.draw(\"latex\")"
   ]
  },
  {
   "cell_type": "code",
   "execution_count": 16,
   "id": "f639dd61-9bf3-42cd-abdb-a2ab7babab97",
   "metadata": {},
   "outputs": [
    {
     "name": "stderr",
     "output_type": "stream",
     "text": [
      "/Library/Frameworks/Python.framework/Versions/3.10/lib/python3.10/site-packages/qiskit/visualization/circuit/latex.py:154: FutureWarning: The default matplotlib drawer scheme will be changed to \"iqp\" in a following release. To silence this warning, specify the current default explicitly as style=\"clifford\", or the new default as style=\"iqp\".\n",
      "  self._style, _ = load_style(style)\n"
     ]
    },
    {
     "data": {
      "text/plain": [
       "'\\\\documentclass[border=2px]{standalone}\\n\\n\\\\usepackage[braket, qm]{qcircuit}\\n\\\\usepackage{graphicx}\\n\\n\\\\begin{document}\\n\\\\scalebox{1.0}{\\n\\\\Qcircuit @C=1.0em @R=0.2em @!R { \\\\\\\\\\n\\t \\t\\\\nghost{{q}_{0} :  } & \\\\lstick{{q}_{0} :  } & \\\\gate{\\\\mathrm{H}} & \\\\ctrl{1} & \\\\meter & \\\\qw & \\\\qw & \\\\qw\\\\\\\\\\n\\t \\t\\\\nghost{{q}_{1} :  } & \\\\lstick{{q}_{1} :  } & \\\\qw & \\\\targ & \\\\qw & \\\\meter & \\\\qw & \\\\qw\\\\\\\\\\n\\t \\t\\\\nghost{\\\\mathrm{{c} :  }} & \\\\lstick{\\\\mathrm{{c} :  }} & \\\\lstick{/_{_{2}}} \\\\cw & \\\\cw & \\\\dstick{_{_{\\\\hspace{0.0em}0}}} \\\\cw \\\\ar @{<=} [-2,0] & \\\\dstick{_{_{\\\\hspace{0.0em}1}}} \\\\cw \\\\ar @{<=} [-1,0] & \\\\cw & \\\\cw\\\\\\\\\\n\\\\\\\\ }}\\n\\\\end{document}'"
      ]
     },
     "execution_count": 16,
     "metadata": {},
     "output_type": "execute_result"
    }
   ],
   "source": [
    "circuit1.draw(\"latex_source\")"
   ]
  },
  {
   "cell_type": "code",
   "execution_count": 17,
   "id": "52ec78b9-b893-4b77-802e-1cc27560e3a7",
   "metadata": {},
   "outputs": [
    {
     "data": {
      "image/png": "[encoded data removed]",
      "text/plain": [
       "<Figure size 700x500 with 1 Axes>"
      ]
     },
     "execution_count": 17,
     "metadata": {},
     "output_type": "execute_result"
    }
   ],
   "source": [
    "# Plot a histogram\n",
    "plot_histogram(counts)"
   ]
  },
  {
   "cell_type": "code",
   "execution_count": null,
   "id": "a061ff12-3a6e-46b3-860a-2046ee7931be",
   "metadata": {},
   "outputs": [],
   "source": []
  },
  {
   "cell_type": "code",
   "execution_count": null,
   "id": "2a98d4a3-00fb-4b69-8c9a-80bbc94ef658",
   "metadata": {},
   "outputs": [],
   "source": []
  },
  {
   "cell_type": "code",
   "execution_count": null,
   "id": "a7f267df-fa5a-4d47-a1b5-971e1dbd83f0",
   "metadata": {},
   "outputs": [],
   "source": []
  }
 ],
 "metadata": {
  "kernelspec": {
   "display_name": "Python 3 (ipykernel)",
   "language": "python",
   "name": "python3"
  },
  "language_info": {
   "codemirror_mode": {
    "name": "ipython",
    "version": 3
   },
   "file_extension": ".py",
   "mimetype": "text/x-python",
   "name": "python",
   "nbconvert_exporter": "python",
   "pygments_lexer": "ipython3",
   "version": "3.10.11"
  }
 },
 "nbformat": 4,
 "nbformat_minor": 5
}
